{
 "cells": [
  {
   "cell_type": "code",
   "execution_count": 89,
   "metadata": {},
   "outputs": [],
   "source": [
    "import numpy as np\n",
    "import scipy.stats as spstats\n",
    "from scipy import signal\n",
    "import pickle\n",
    "from multiprocessing import Pool\n",
    "import multiprocessing\n",
    "import scipy.sparse as sparse\n",
    "import seaborn as sns\n",
    "\n",
    "from potentials import IndependentPotential\n",
    "from baselines import GenerateSigma,construct_ESVM_kernel,set_function\n",
    "from optimize import Run_eval_test,optimize_parallel_new \n",
    "from samplers import MCMC_sampler,Generate_train\n",
    "from utils import *"
   ]
  },
  {
   "cell_type": "code",
   "execution_count": 90,
   "metadata": {},
   "outputs": [],
   "source": [
    "N_train = 1*10**4 # Number of samples on which we optimize\n",
    "N_test = 1*10**4 # Number of samples\n",
    "n_traj_train = 1\n",
    "n_traj_test = 100 # Number of independent MCMC trajectories for test\n",
    "f_type = \"cos_sum\""
   ]
  },
  {
   "cell_type": "code",
   "execution_count": 91,
   "metadata": {},
   "outputs": [],
   "source": [
    "sampler = {\"sampler\":\"3rd_poly\",\"burn_type\":\"full\",\"main_type\":\"full\"}# Sampling method"
   ]
  },
  {
   "cell_type": "code",
   "execution_count": 92,
   "metadata": {},
   "outputs": [],
   "source": [
    "d = 10\n",
    "typ = sampler[\"sampler\"]\n",
    "#mu = np.array([0.0],dtype = float)\n",
    "#Sigma = 1.0\n",
    "mu = np.zeros(d, dtype = float)\n",
    "Sigma = np.eye(d)\n",
    "#Sigma = GenerateSigma(d,rand_seed = 777,eps = 0.1) #covariation matrix \n",
    "\"\"\"\n",
    "params_distr = {\n",
    "    \"mu\":mu,\n",
    "    \"Sigma\":Sigma,\n",
    "    \"d\":d\n",
    "}\n",
    "\n",
    "params_distr = {\n",
    "    \"mu\":0.0,\n",
    "    \"lambda\":1.0,\n",
    "    \"d\":d\n",
    "}\n",
    "\"\"\"\n",
    "params_distr = {\n",
    "    \"b\":2.0,\n",
    "    \"d\":d\n",
    "}\n",
    "\n",
    "Cur_pot = IndependentPotential(typ,params_distr)\n",
    "#Cur_pot = GausMixtureSame(Sigma,mu,p)\n",
    "#Cur_pot = GausMixtureIdent(mu,p)"
   ]
  },
  {
   "cell_type": "code",
   "execution_count": 93,
   "metadata": {},
   "outputs": [
    {
     "name": "stdout",
     "output_type": "stream",
     "text": [
      "(1, 10000, 10)\n",
      "(1, 10000, 10)\n"
     ]
    }
   ],
   "source": [
    "rand_seed = 777\n",
    "traj,traj_grad = Cur_pot.sample(rand_seed,N_train)\n",
    "traj = np.expand_dims(traj,axis=0)\n",
    "traj_grad = np.expand_dims(traj_grad,axis=0)\n",
    "print(traj.shape)\n",
    "print(traj_grad.shape)"
   ]
  },
  {
   "cell_type": "code",
   "execution_count": 94,
   "metadata": {},
   "outputs": [],
   "source": [
    "inds_arr = np.array([0]) # Taking the second index (not intercept)\n",
    "params = None \n",
    "f_vals = set_function(f_type,traj,inds_arr,params)"
   ]
  },
  {
   "cell_type": "code",
   "execution_count": 95,
   "metadata": {},
   "outputs": [
    {
     "name": "stdout",
     "output_type": "stream",
     "text": [
      "(1, 10000, 1)\n"
     ]
    }
   ],
   "source": [
    "print(f_vals.shape)"
   ]
  },
  {
   "cell_type": "code",
   "execution_count": 96,
   "metadata": {},
   "outputs": [],
   "source": [
    "W_train_spec = None\n",
    "W_test_spec = None\n",
    "degree = 5 #degree of the polynomial\n",
    "opt_structure_train = {\n",
    "    \"W\":W_train_spec,\n",
    "    \"n_restarts\": 5, # Number of restarts during optimization,\n",
    "    \"sigma\": 3.0, # Deviation of starting points\n",
    "    \"tol\": 1e-6, # Tolerance (for the norm of gradient)\n",
    "    \"alpha\": 0.0, # Ridge penalty for 2nd order control functionals\n",
    "    \"beta\": 1e2 # smoothing parameter in the softmax\n",
    "}\n",
    "methods = [\"EVM\",\"LS\",\"MAX\"]"
   ]
  },
  {
   "cell_type": "code",
   "execution_count": 97,
   "metadata": {},
   "outputs": [
    {
     "name": "stdout",
     "output_type": "stream",
     "text": [
      "k-th degree optimization terminated succesfully\n",
      "Jacobian matrix at termination: \n",
      "[ 1.71459698e-10  2.43657735e-09 -2.23506010e-09  2.31665569e-09\n",
      "  8.96424598e-10 -5.14625758e-09 -8.65826184e-09 -2.32439933e-09\n",
      " -9.10728154e-10 -6.00567622e-11  2.55371533e-09  4.55307806e-09\n",
      " -4.90586635e-09  5.30055148e-09  3.63639105e-10 -8.83930919e-10\n",
      "  2.09723325e-09 -1.26219699e-08 -6.93226228e-09  3.53154189e-09\n",
      "  3.22145627e-10  6.66788768e-10  4.13366240e-10 -1.38101959e-10\n",
      " -3.18732375e-10 -1.98319067e-10  2.13742331e-09 -6.65110679e-10\n",
      "  5.60695916e-11 -4.59746287e-10 -1.51606754e-08  9.58026877e-09\n",
      " -4.73691870e-09 -2.40673425e-09  1.15023208e-08 -1.45196537e-09\n",
      " -4.06376430e-09 -5.35187680e-09 -1.38826668e-08 -1.12175640e-08\n",
      " -4.01361692e-08 -1.27811324e-06 -3.43981027e-08  8.85862807e-10\n",
      "  2.16659816e-08  1.62252610e-05 -1.31138269e-07 -1.90674722e-07\n",
      "  7.34877969e-08 -2.58486343e-07]\n",
      "k-th degree optimization terminated succesfully\n",
      "Jacobian matrix at termination: \n",
      "[-6.24915603e-10 -8.09938462e-09  1.21251058e-09 -7.55551779e-11\n",
      "  1.95605485e-10 -2.70989503e-10  9.35652033e-09 -6.96311152e-10\n",
      "  2.37054223e-09 -7.14899176e-11  3.07243920e-09 -7.99806156e-09\n",
      " -1.68881489e-10  2.54005326e-09  4.78809644e-09  4.01552580e-09\n",
      " -2.18013119e-09 -6.27821358e-10  1.78393388e-09  9.87279567e-10\n",
      "  7.15106188e-10  1.14048062e-09  8.88731338e-10 -1.95367357e-10\n",
      "  5.14766295e-11  1.05304358e-09  1.44294360e-09  1.02629825e-09\n",
      "  3.31564185e-10 -1.04446669e-10  1.46136120e-08 -3.93065824e-09\n",
      " -8.39198340e-09  2.16400595e-09  1.33267126e-09  5.99167879e-09\n",
      " -1.91399557e-09 -2.30247857e-09 -1.15171568e-08  4.38232431e-09\n",
      " -1.58547991e-09 -8.26460550e-07 -3.35904629e-08 -4.41214315e-10\n",
      " -1.71327737e-06 -1.40494738e-05 -5.51396582e-07 -4.64195250e-06\n",
      " -9.18719332e-09 -2.05038624e-07]\n",
      "requested precision not necesserily achieved, try to increase error tolerance\n",
      "Jacobian matrix at termination: \n",
      "[ 5.35444874e-08  3.58927719e-08  5.54339292e-08  6.84510072e-08\n",
      " -7.36642736e-08 -1.93475843e-09  2.51180213e-07  9.45071132e-09\n",
      " -8.33030794e-08 -1.30777407e-08 -1.06121888e-09  1.39116633e-07\n",
      "  8.90317036e-08 -3.93214576e-08  1.05009846e-07 -3.16213732e-08\n",
      "  7.75627557e-08 -3.78649317e-08 -1.69002811e-08  1.71799907e-08\n",
      " -2.42162165e-07 -1.21470055e-07 -2.22332753e-07 -7.65464508e-09\n",
      " -4.28186962e-07  2.84063386e-08  8.36766380e-07  3.21282540e-07\n",
      " -4.23816648e-07  1.26955060e-07  1.02121047e-07  5.62022773e-08\n",
      "  6.62575117e-08  1.68849872e-08 -7.48528988e-08  1.89376377e-08\n",
      "  5.10367523e-08 -8.28047253e-09 -6.30944820e-08 -1.04592385e-08\n",
      "  4.01054305e-04  1.10312521e-02  6.98612981e-04 -3.37514789e-05\n",
      "  2.25677214e-03 -3.49101881e-03 -1.11705054e-03  3.37832315e-04\n",
      "  7.46963983e-04  6.07451618e-04]\n"
     ]
    }
   ],
   "source": [
    "coef_dict_k_deg = optimize_parallel_new(degree,inds_arr,f_vals,traj,traj_grad,opt_structure_train,methods)"
   ]
  },
  {
   "cell_type": "markdown",
   "metadata": {},
   "source": [
    "### Coefficients for given training methods"
   ]
  },
  {
   "cell_type": "code",
   "execution_count": 98,
   "metadata": {},
   "outputs": [
    {
     "name": "stdout",
     "output_type": "stream",
     "text": [
      "[[-9.04841569e-04 -2.16898572e-03 -1.90877232e-04  1.49131716e-03\n",
      "  -3.14751573e-03  2.95692775e-03  1.46104543e-03  6.51493090e-03\n",
      "   4.66639416e-03  2.17151208e-03 -1.72292217e-01 -1.71328581e-01\n",
      "  -1.70098885e-01 -1.64962980e-01 -1.67066805e-01 -1.75319402e-01\n",
      "  -1.72832666e-01 -1.69558043e-01 -1.67746918e-01 -1.70235395e-01\n",
      "   1.07648701e-03  1.60027621e-03 -1.32564933e-03  3.03782265e-04\n",
      "  -1.35286280e-03 -1.12834508e-04  1.16567182e-03  6.00594343e-04\n",
      "  -2.44194132e-03 -2.29453809e-04 -4.25020642e-02 -4.68335511e-02\n",
      "  -4.21142883e-02 -4.33971569e-02 -5.13880206e-02 -4.39840573e-02\n",
      "  -4.08359493e-02 -4.61165958e-02 -5.20044894e-02 -4.54025155e-02\n",
      "   1.90349109e-06  6.81378742e-08  3.75097974e-09  3.37352923e-06\n",
      "  -4.64429081e-08  5.16500655e-08  1.94957814e-07  7.86439405e-08\n",
      "   6.50124624e-08  1.59656570e-07]]\n"
     ]
    }
   ],
   "source": [
    "print(coef_dict_k_deg[\"EVM\"])"
   ]
  },
  {
   "cell_type": "code",
   "execution_count": 99,
   "metadata": {},
   "outputs": [
    {
     "name": "stdout",
     "output_type": "stream",
     "text": [
      "[[-7.83934680e-04 -3.51271120e-03 -1.08350244e-04  1.68767505e-03\n",
      "  -1.65652623e-03  3.88930442e-03 -5.76725384e-04  8.13588943e-03\n",
      "   3.29762059e-03  1.31565910e-03 -1.72846782e-01 -1.71135688e-01\n",
      "  -1.71325045e-01 -1.64174020e-01 -1.67072009e-01 -1.73155660e-01\n",
      "  -1.72642422e-01 -1.69596028e-01 -1.70011114e-01 -1.69981504e-01\n",
      "   1.00010598e-03  1.91877161e-03 -7.76019520e-04  9.82619800e-05\n",
      "  -1.26701189e-03  9.32862132e-05  9.12826818e-04  2.84369051e-04\n",
      "  -2.21947236e-03 -3.96866475e-04 -6.85977565e-02 -7.33238187e-02\n",
      "  -6.81577886e-02 -7.16838144e-02 -7.89232957e-02 -7.19167743e-02\n",
      "  -6.85763164e-02 -7.54581535e-02 -8.01178045e-02 -7.20225556e-02\n",
      "   2.21388419e-06  8.11157262e-08  1.03148920e-08  3.85264809e-06\n",
      "  -3.53221783e-08  5.75969522e-08  2.16768469e-07  4.72928529e-08\n",
      "   1.74343371e-07  1.68518104e-07]]\n"
     ]
    }
   ],
   "source": [
    "print(coef_dict_k_deg[\"LS\"])"
   ]
  },
  {
   "cell_type": "code",
   "execution_count": 100,
   "metadata": {},
   "outputs": [
    {
     "name": "stdout",
     "output_type": "stream",
     "text": [
      "[[-1.19692917e-02 -2.17550985e-02  1.15400995e-02  2.99583626e-02\n",
      "  -2.36230305e-02  1.58707680e-02  1.64125940e-02  2.97525767e-02\n",
      "  -1.14751537e-02  5.29441594e-03 -1.32709169e-01 -1.38870314e-01\n",
      "  -1.58262815e-01 -1.45684574e-01 -1.54873167e-01 -1.59789010e-01\n",
      "  -1.85317934e-01 -1.71472442e-01 -1.29547812e-01 -1.25374663e-01\n",
      "   3.44772945e-03  6.91514963e-03  5.09827693e-03  6.73418686e-03\n",
      "  -1.92671838e-03 -7.15671549e-03  1.34661287e-02  9.66682911e-03\n",
      "  -1.72573094e-02  4.73927959e-03 -8.29729727e-02 -7.35131985e-02\n",
      "  -1.17240656e-01 -7.33659894e-02 -1.21722365e-01 -6.32829954e-02\n",
      "  -3.04180730e-02 -8.65988867e-02 -1.18065292e-01 -9.59154786e-02\n",
      "   3.75597371e-06  1.21342567e-07 -1.89589432e-06 -2.87864136e-06\n",
      "  -2.77154639e-07 -3.55170903e-07  8.83881844e-07  5.45788549e-07\n",
      "  -1.03794576e-06  8.94946885e-08]]\n"
     ]
    }
   ],
   "source": [
    "print(coef_dict_k_deg[\"MAX\"])"
   ]
  },
  {
   "cell_type": "markdown",
   "metadata": {},
   "source": [
    "### Test "
   ]
  },
  {
   "cell_type": "code",
   "execution_count": 101,
   "metadata": {},
   "outputs": [],
   "source": [
    "#Create a dictionary and put respective matrices into it\n",
    "test_params = {\n",
    "    \"W\":W_test_spec,\n",
    "    \"step\":None,\n",
    "    \"burn_in\":None,\n",
    "    \"n_test\":N_test,\n",
    "    \"dim\":d\n",
    "}\n",
    "nbcores = multiprocessing.cpu_count()\n",
    "trav = Pool(nbcores)\n",
    "res = trav.starmap(Run_eval_test, [(i,degree,sampler,methods,inds_arr,Cur_pot,test_params,coef_dict_k_deg,params,f_type) for i in range (n_traj_test)])\n",
    "trav.close()"
   ]
  },
  {
   "cell_type": "code",
   "execution_count": 102,
   "metadata": {},
   "outputs": [
    {
     "name": "stdout",
     "output_type": "stream",
     "text": [
      "['Vanilla', 'EVM', 'LS', 'MAX']\n"
     ]
    }
   ],
   "source": [
    "methods_enh = ['Vanilla'] + methods\n",
    "print(methods_enh)\n",
    "ints_result = {key: [] for key in methods_enh}\n",
    "vars_result = {key: [] for key in methods_enh}"
   ]
  },
  {
   "cell_type": "code",
   "execution_count": 103,
   "metadata": {},
   "outputs": [],
   "source": [
    "for i in range(len(res)):\n",
    "    for j in range(len(methods_enh)):\n",
    "        ints_result[methods_enh[j]].append(res[i][0][methods_enh[j]][0])\n",
    "        vars_result[methods_enh[j]].append(res[i][1][methods_enh[j]][0])\n",
    "for key in methods_enh:\n",
    "    ints_result[key] = np.asarray(ints_result[key])\n",
    "    vars_result[key] = np.asarray(vars_result[key])"
   ]
  },
  {
   "cell_type": "markdown",
   "metadata": {},
   "source": [
    "### Results"
   ]
  },
  {
   "cell_type": "code",
   "execution_count": 104,
   "metadata": {},
   "outputs": [
    {
     "name": "stdout",
     "output_type": "stream",
     "text": [
      "Estimators\n",
      "Vanilla\n",
      "mean:  [3.74229329]\n",
      "std:  [0.01859722]\n",
      "max deviation:  0.0608764114161362\n",
      "EVM\n",
      "mean:  [1.14981546]\n",
      "std:  [2.30510797]\n",
      "max deviation:  22.46425014966313\n",
      "LS\n",
      "mean:  [-0.28294848]\n",
      "std:  [2.67970185]\n",
      "max deviation:  26.136577810303223\n",
      "MAX\n",
      "mean:  [-1.14301184]\n",
      "std:  [4.69576955]\n",
      "max deviation:  44.380667065039866\n"
     ]
    }
   ],
   "source": [
    "print(\"Estimators\")\n",
    "for i in range(len(methods_enh)):\n",
    "    print(methods_enh[i])\n",
    "    print(\"mean: \",np.mean(ints_result[methods_enh[i]],axis=0))\n",
    "    print(\"std: \",np.std(ints_result[methods_enh[i]],axis=0))\n",
    "    print(\"max deviation: \",np.max(np.abs(ints_result[methods_enh[i]] - np.mean(ints_result[methods_enh[i]]))))"
   ]
  },
  {
   "cell_type": "code",
   "execution_count": 105,
   "metadata": {},
   "outputs": [
    {
     "name": "stdout",
     "output_type": "stream",
     "text": [
      "Variances\n",
      "Vanilla\n",
      "[3.03368318]\n",
      "EVM\n",
      "[54067.79003951]\n",
      "LS\n",
      "[72857.93394204]\n",
      "MAX\n",
      "[242669.44687005]\n"
     ]
    }
   ],
   "source": [
    "print(\"Variances\")\n",
    "for i in range(len(methods_enh)):\n",
    "    print(methods_enh[i])\n",
    "    print(np.mean(vars_result[methods_enh[i]],axis=0))"
   ]
  },
  {
   "cell_type": "code",
   "execution_count": null,
   "metadata": {},
   "outputs": [],
   "source": [
    "#save results\n",
    "res_dict = {\"int\":ints_result,\"var\":vars_result}\n",
    "np.save(\"Results/15_09/MC_Pareto_sum_cos_traj_1_d_10_beta_1e-1_train_5e2_test_1e4_deg_3.npy\",res_dict)"
   ]
  },
  {
   "cell_type": "markdown",
   "metadata": {},
   "source": [
    "### Plot results"
   ]
  },
  {
   "cell_type": "code",
   "execution_count": null,
   "metadata": {},
   "outputs": [],
   "source": [
    "var_ind = 0\n",
    "title = \"\"\n",
    "labels = ['Vanilla', 'EVM', 'LS','MAX']"
   ]
  },
  {
   "cell_type": "code",
   "execution_count": null,
   "metadata": {},
   "outputs": [],
   "source": [
    "# Box plot\n",
    "data = [res_dict['int'][method][:,var_ind] for method in labels] \n",
    "boxplot_ind(data, title, labels)"
   ]
  },
  {
   "cell_type": "code",
   "execution_count": null,
   "metadata": {},
   "outputs": [],
   "source": [
    "var_ind = 0\n",
    "title = \"\"\n",
    "labels = ['EVM','MAX']\n",
    "data = [res_dict['int'][method][:,var_ind] for method in labels] \n",
    "boxplot_ind(data, title, labels)"
   ]
  },
  {
   "cell_type": "code",
   "execution_count": null,
   "metadata": {},
   "outputs": [],
   "source": [
    "var_ind = 0 #Index to plot\n",
    "title = \"\"\n",
    "labels = ['ULA \\nwith EVM','ULA\\nwith ESVM']"
   ]
  },
  {
   "cell_type": "code",
   "execution_count": null,
   "metadata": {},
   "outputs": [],
   "source": [
    "data = [results[:,0,4,var_ind]-1.25,results[:,0,2,var_ind]-1.25] \n",
    "boxplot_ind(data, title, labels)"
   ]
  },
  {
   "cell_type": "code",
   "execution_count": null,
   "metadata": {},
   "outputs": [],
   "source": [
    "vars_vanilla = results[:,1,0,:]\n",
    "vars_esvm_1st = results[:,1,1,:]\n",
    "vars_esvm_2nd = results[:,1,2,:]\n",
    "vars_evm_1st = results[:,1,3,:]\n",
    "vars_evm_2nd = results[:,1,4,:]\n",
    "print(\"average VRF for 1st order EVM:\",np.mean(vars_vanilla)/np.mean(vars_evm_1st))\n",
    "print(\"average VRF for 2nd order EVM:\",np.mean(vars_vanilla)/np.mean(vars_evm_2nd))\n",
    "print(\"average VRF for 1st order ESVM:\",np.mean(vars_vanilla)/np.mean(vars_esvm_1st))\n",
    "print(\"average VRF for 2nd order ESVM:\",np.mean(vars_vanilla)/np.mean(vars_esvm_2nd))"
   ]
  },
  {
   "cell_type": "code",
   "execution_count": null,
   "metadata": {},
   "outputs": [],
   "source": []
  }
 ],
 "metadata": {
  "kernelspec": {
   "display_name": "Python 3",
   "language": "python",
   "name": "python3"
  },
  "language_info": {
   "codemirror_mode": {
    "name": "ipython",
    "version": 3
   },
   "file_extension": ".py",
   "mimetype": "text/x-python",
   "name": "python",
   "nbconvert_exporter": "python",
   "pygments_lexer": "ipython3",
   "version": "3.6.7"
  }
 },
 "nbformat": 4,
 "nbformat_minor": 2
}
